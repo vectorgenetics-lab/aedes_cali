{
 "cells": [
  {
   "cell_type": "code",
   "execution_count": 8,
   "metadata": {},
   "outputs": [
    {
     "name": "stdout",
     "output_type": "stream",
     "text": [
      "3.7.8 | packaged by conda-forge | (default, Jul 31 2020, 02:25:08) \n",
      "[GCC 7.5.0]\n",
      "numpy 1.19.4\n",
      "pandas 1.1.4\n",
      "allel 1.3.2\n",
      "zarr 2.6.1\n"
     ]
    }
   ],
   "source": [
    "import sys; print(sys.version)\n",
    "import os\n",
    "import glob\n",
    "import subprocess\n",
    "import multiprocessing\n",
    "import numpy as np; print('numpy', np.__version__)\n",
    "import pandas as pd; print('pandas',pd.__version__)\n",
    "import allel; print('allel', allel.__version__)\n",
    "import zarr; print('zarr', zarr.__version__)\n",
    "\n",
    "from IPython.display import display, HTML\n"
   ]
  },
  {
   "cell_type": "code",
   "execution_count": 12,
   "metadata": {},
   "outputs": [],
   "source": [
    "INFN= '/home/mdelima/share/aedes/aedes-l4-california.vcf.gz'\n",
    "\n",
    "OUTFN = INFN+'.zarr'\n",
    "\n",
    "# Below will probably not need to be changed\n",
    "FIELDS = [\n",
    "    'samples',\n",
    "    'variants/CHROM',\n",
    "    'variants/POS',\n",
    "    'variants/REF',\n",
    "    'variants/ALT',\n",
    "    'variants/QUAL',\n",
    "    'variants/TYPE',\n",
    "#     'variants/NUMALT',\n",
    "    'variants/numalt',\n",
    "    'variants/AN',\n",
    "    'variants/AC',\n",
    "    'variants/AF',\n",
    "    'variants/DP',\n",
    "#     'variants/ANN',\n",
    "    'calldata/DP',\n",
    "    'calldata/GT',\n",
    "         ]\n",
    "EXCLUDE_FIELDS = None\n",
    "\n",
    "# # ALTERNATIVE:\n",
    "# # All the fields from the VCF (overkill leads to very big archive)\n",
    "# FIELDS = '*' \n",
    "# EXCLUDE_FIELDS = ['variants/NUMALT'] # allel will calculate a numalt (lower case) on the fly\n",
    "\n",
    "TABIX_EXEC = 'tabix'\n",
    "\n"
   ]
  },
  {
   "cell_type": "code",
   "execution_count": 13,
   "metadata": {},
   "outputs": [
    {
     "data": {
      "text/plain": [
       "['1', '2', '3']"
      ]
     },
     "metadata": {},
     "output_type": "display_data"
    }
   ],
   "source": [
    "# get list of chroms\n",
    "chroms = subprocess.check_output([TABIX_EXEC,'-l',INFN], \n",
    "                                 universal_newlines=True).strip().split('\\n')\n",
    "display(chroms)"
   ]
  },
  {
   "cell_type": "code",
   "execution_count": 14,
   "metadata": {},
   "outputs": [
    {
     "name": "stderr",
     "output_type": "stream",
     "text": [
      "[vcf_to_zarr] 65536 rows in 6.69s; chunk in 6.69s (9796 rows/s); 3\u0000:10932448\n",
      "[vcf_to_zarr] 65536 rows in 6.95s; chunk in 6.95s (9430 rows/s); 2\u0000:8266201\n",
      "[vcf_to_zarr] 65536 rows in 7.02s; chunk in 7.02s (9339 rows/s); 1\u0000:14470112\n",
      "[vcf_to_zarr] 131072 rows in 14.13s; chunk in 7.44s (8807 rows/s); 3\u0000:18309102\n",
      "[vcf_to_zarr] 131072 rows in 14.53s; chunk in 7.58s (8645 rows/s); 2\u0000:16078684\n",
      "[vcf_to_zarr] 131072 rows in 14.57s; chunk in 7.55s (8677 rows/s); 1\u0000:27259471\n",
      "[vcf_to_zarr] 196608 rows in 21.23s; chunk in 7.10s (9229 rows/s); 3\u0000:27725274\n",
      "[vcf_to_zarr] 196608 rows in 21.73s; chunk in 7.16s (9150 rows/s); 1\u0000:39125791\n",
      "[vcf_to_zarr] 196608 rows in 21.74s; chunk in 7.21s (9090 rows/s); 2\u0000:23205368\n",
      "[vcf_to_zarr] 262144 rows in 28.28s; chunk in 7.05s (9297 rows/s); 3\u0000:37866922\n",
      "[vcf_to_zarr] 262144 rows in 28.59s; chunk in 6.85s (9565 rows/s); 2\u0000:31200075\n",
      "[vcf_to_zarr] 262144 rows in 28.79s; chunk in 7.06s (9281 rows/s); 1\u0000:51378029\n",
      "[vcf_to_zarr] 327680 rows in 35.34s; chunk in 7.06s (9280 rows/s); 3\u0000:47869118\n",
      "[vcf_to_zarr] 327680 rows in 35.62s; chunk in 7.03s (9316 rows/s); 2\u0000:37677026\n",
      "[vcf_to_zarr] 327680 rows in 35.97s; chunk in 7.18s (9126 rows/s); 1\u0000:63438365\n",
      "[vcf_to_zarr] 393216 rows in 42.39s; chunk in 7.05s (9294 rows/s); 3\u0000:56485557\n",
      "[vcf_to_zarr] 393216 rows in 42.72s; chunk in 7.09s (9241 rows/s); 2\u0000:44580133\n",
      "[vcf_to_zarr] 393216 rows in 43.09s; chunk in 7.11s (9211 rows/s); 1\u0000:74185107\n",
      "[vcf_to_zarr] 458752 rows in 49.29s; chunk in 6.90s (9498 rows/s); 3\u0000:64058582\n",
      "[vcf_to_zarr] 458752 rows in 49.67s; chunk in 6.95s (9424 rows/s); 2\u0000:51625817\n",
      "[vcf_to_zarr] 458752 rows in 49.89s; chunk in 6.80s (9636 rows/s); 1\u0000:82593780\n",
      "[vcf_to_zarr] 524288 rows in 56.37s; chunk in 7.08s (9260 rows/s); 3\u0000:70527823\n",
      "[vcf_to_zarr] 524288 rows in 56.77s; chunk in 7.10s (9232 rows/s); 2\u0000:58291064\n",
      "[vcf_to_zarr] 524288 rows in 56.89s; chunk in 7.00s (9365 rows/s); 1\u0000:90736112\n",
      "[vcf_to_zarr] 589824 rows in 63.28s; chunk in 6.91s (9489 rows/s); 3\u0000:78929774\n",
      "[vcf_to_zarr] 589824 rows in 63.93s; chunk in 7.16s (9149 rows/s); 2\u0000:65773482\n",
      "[vcf_to_zarr] 589824 rows in 63.97s; chunk in 7.08s (9254 rows/s); 1\u0000:97769314\n",
      "[vcf_to_zarr] 655360 rows in 70.33s; chunk in 7.05s (9290 rows/s); 3\u0000:86771915\n",
      "[vcf_to_zarr] 655360 rows in 70.92s; chunk in 6.99s (9380 rows/s); 2\u0000:72418644\n",
      "[vcf_to_zarr] 655360 rows in 71.13s; chunk in 7.16s (9155 rows/s); 1\u0000:105153390\n",
      "[vcf_to_zarr] 720896 rows in 77.38s; chunk in 7.05s (9293 rows/s); 3\u0000:93437710\n",
      "[vcf_to_zarr] 720896 rows in 77.85s; chunk in 6.93s (9454 rows/s); 2\u0000:79955714\n",
      "[vcf_to_zarr] 720896 rows in 78.24s; chunk in 7.11s (9217 rows/s); 1\u0000:112654258\n",
      "[vcf_to_zarr] 786432 rows in 84.45s; chunk in 7.07s (9266 rows/s); 3\u0000:100603781\n",
      "[vcf_to_zarr] 786432 rows in 84.94s; chunk in 7.09s (9247 rows/s); 2\u0000:87164328\n",
      "[vcf_to_zarr] 786432 rows in 85.23s; chunk in 6.99s (9374 rows/s); 1\u0000:120565350\n",
      "[vcf_to_zarr] 851968 rows in 91.37s; chunk in 6.92s (9471 rows/s); 3\u0000:107681650\n",
      "[vcf_to_zarr] 851968 rows in 92.08s; chunk in 7.14s (9175 rows/s); 2\u0000:95130580\n",
      "[vcf_to_zarr] 851968 rows in 92.28s; chunk in 7.06s (9287 rows/s); 1\u0000:127294556\n",
      "[vcf_to_zarr] 917504 rows in 98.31s; chunk in 6.94s (9445 rows/s); 3\u0000:114262980\n",
      "[vcf_to_zarr] 917504 rows in 99.17s; chunk in 7.09s (9236 rows/s); 2\u0000:106354076\n",
      "[vcf_to_zarr] 917504 rows in 99.19s; chunk in 6.91s (9488 rows/s); 1\u0000:133738453\n",
      "[vcf_to_zarr] 983040 rows in 105.43s; chunk in 7.11s (9212 rows/s); 3\u0000:120571546\n",
      "[vcf_to_zarr] 983040 rows in 106.03s; chunk in 6.84s (9574 rows/s); 1\u0000:140169925\n",
      "[vcf_to_zarr] 983040 rows in 106.35s; chunk in 7.18s (9132 rows/s); 2\u0000:116665637\n",
      "[vcf_to_zarr] 1048576 rows in 112.56s; chunk in 7.13s (9185 rows/s); 3\u0000:127258786\n",
      "[vcf_to_zarr] 1048576 rows in 113.15s; chunk in 7.11s (9212 rows/s); 1\u0000:146076236\n",
      "[vcf_to_zarr] 1048576 rows in 113.38s; chunk in 7.03s (9327 rows/s); 2\u0000:123630792\n",
      "[vcf_to_zarr] 1114112 rows in 119.38s; chunk in 6.82s (9615 rows/s); 3\u0000:133342988\n",
      "[vcf_to_zarr] 1114112 rows in 120.33s; chunk in 7.18s (9126 rows/s); 1\u0000:156066320\n",
      "[vcf_to_zarr] 1114112 rows in 120.56s; chunk in 7.18s (9122 rows/s); 2\u0000:130456017\n",
      "[vcf_to_zarr] 1179648 rows in 126.28s; chunk in 6.91s (9490 rows/s); 3\u0000:139652400\n",
      "[vcf_to_zarr] 1179648 rows in 127.34s; chunk in 7.01s (9349 rows/s); 1\u0000:162939991\n",
      "[vcf_to_zarr] 1179648 rows in 127.67s; chunk in 7.11s (9222 rows/s); 2\u0000:136400693\n",
      "[vcf_to_zarr] 1245184 rows in 133.30s; chunk in 7.02s (9337 rows/s); 3\u0000:146641468\n",
      "[vcf_to_zarr] 1245184 rows in 134.42s; chunk in 7.09s (9249 rows/s); 1\u0000:170670927\n",
      "[vcf_to_zarr] 1245184 rows in 134.82s; chunk in 7.16s (9158 rows/s); 2\u0000:142908283\n",
      "[vcf_to_zarr] 1310720 rows in 140.18s; chunk in 6.88s (9530 rows/s); 3\u0000:153754069\n",
      "[vcf_to_zarr] 1310720 rows in 141.35s; chunk in 6.92s (9467 rows/s); 1\u0000:176640817\n",
      "[vcf_to_zarr] 1310720 rows in 141.84s; chunk in 7.02s (9332 rows/s); 2\u0000:149035687\n",
      "[vcf_to_zarr] 1376256 rows in 147.20s; chunk in 7.03s (9324 rows/s); 3\u0000:161593191\n",
      "[vcf_to_zarr] 1376256 rows in 148.26s; chunk in 6.91s (9480 rows/s); 1\u0000:182260406\n",
      "[vcf_to_zarr] 1376256 rows in 148.85s; chunk in 7.01s (9354 rows/s); 2\u0000:155098222\n",
      "[vcf_to_zarr] 1441792 rows in 154.41s; chunk in 7.20s (9096 rows/s); 3\u0000:166404781\n",
      "[vcf_to_zarr] 1441792 rows in 155.28s; chunk in 7.02s (9334 rows/s); 1\u0000:188181174\n",
      "[vcf_to_zarr] 1441792 rows in 155.82s; chunk in 6.97s (9406 rows/s); 2\u0000:161829237\n",
      "[vcf_to_zarr] 1507328 rows in 161.35s; chunk in 6.94s (9446 rows/s); 3\u0000:171799759\n",
      "[vcf_to_zarr] 1507328 rows in 161.98s; chunk in 6.70s (9785 rows/s); 1\u0000:194625812\n",
      "[vcf_to_zarr] 1507328 rows in 162.66s; chunk in 6.84s (9585 rows/s); 2\u0000:166519729\n",
      "[vcf_to_zarr] 1572864 rows in 168.34s; chunk in 6.99s (9373 rows/s); 3\u0000:176541068\n",
      "[vcf_to_zarr] 1572864 rows in 168.83s; chunk in 6.86s (9559 rows/s); 1\u0000:200557151\n",
      "[vcf_to_zarr] 1572864 rows in 169.70s; chunk in 7.04s (9302 rows/s); 2\u0000:172314454\n",
      "[vcf_to_zarr] 1638400 rows in 175.37s; chunk in 7.03s (9316 rows/s); 3\u0000:182315355\n",
      "[vcf_to_zarr] 1638400 rows in 175.86s; chunk in 7.03s (9321 rows/s); 1\u0000:206237700\n",
      "[vcf_to_zarr] 1638400 rows in 176.47s; chunk in 6.77s (9682 rows/s); 2\u0000:178198842\n",
      "[vcf_to_zarr] 1703936 rows in 182.38s; chunk in 7.01s (9347 rows/s); 3\u0000:190216723\n",
      "[vcf_to_zarr] 1703936 rows in 182.74s; chunk in 6.88s (9523 rows/s); 1\u0000:213503612\n",
      "[vcf_to_zarr] 1703936 rows in 183.43s; chunk in 6.96s (9409 rows/s); 2\u0000:183488795\n",
      "[vcf_to_zarr] 1769472 rows in 189.53s; chunk in 7.15s (9171 rows/s); 3\u0000:198523875\n",
      "[vcf_to_zarr] 1769472 rows in 189.80s; chunk in 7.05s (9289 rows/s); 1\u0000:220375900\n",
      "[vcf_to_zarr] 1769472 rows in 190.32s; chunk in 6.89s (9516 rows/s); 2\u0000:189115181\n",
      "[vcf_to_zarr] 1835008 rows in 196.75s; chunk in 7.22s (9073 rows/s); 3\u0000:205955754\n",
      "[vcf_to_zarr] 1835008 rows in 196.85s; chunk in 7.05s (9296 rows/s); 1\u0000:228556281\n",
      "[vcf_to_zarr] 1835008 rows in 197.61s; chunk in 7.29s (8987 rows/s); 2\u0000:193653318\n",
      "[vcf_to_zarr] 1900544 rows in 203.70s; chunk in 6.95s (9434 rows/s); 3\u0000:213585167\n",
      "[vcf_to_zarr] 1900544 rows in 203.76s; chunk in 6.91s (9479 rows/s); 1\u0000:234382384\n",
      "[vcf_to_zarr] 1900544 rows in 204.82s; chunk in 7.21s (9091 rows/s); 2\u0000:198751284\n",
      "[vcf_to_zarr] 1966080 rows in 210.68s; chunk in 6.92s (9473 rows/s); 1\u0000:241772484\n",
      "[vcf_to_zarr] 1966080 rows in 210.77s; chunk in 7.07s (9265 rows/s); 3\u0000:218831936\n",
      "[vcf_to_zarr] 1966080 rows in 211.72s; chunk in 6.90s (9493 rows/s); 2\u0000:204861186\n",
      "[vcf_to_zarr] 2031616 rows in 217.53s; chunk in 6.85s (9563 rows/s); 1\u0000:249832778\n",
      "[vcf_to_zarr] 2031616 rows in 217.72s; chunk in 6.95s (9430 rows/s); 3\u0000:224363847\n",
      "[vcf_to_zarr] 2031616 rows in 218.81s; chunk in 7.09s (9244 rows/s); 2\u0000:211183111\n",
      "[vcf_to_zarr] 2097152 rows in 224.73s; chunk in 7.20s (9101 rows/s); 1\u0000:256266830\n",
      "[vcf_to_zarr] 2097152 rows in 224.77s; chunk in 7.04s (9302 rows/s); 3\u0000:228701306\n",
      "[vcf_to_zarr] 2097152 rows in 225.86s; chunk in 7.04s (9305 rows/s); 2\u0000:217674606\n",
      "[vcf_to_zarr] 2162688 rows in 231.67s; chunk in 6.94s (9443 rows/s); 1\u0000:261906282\n",
      "[vcf_to_zarr] 2162688 rows in 231.71s; chunk in 6.94s (9437 rows/s); 3\u0000:234081604\n",
      "[vcf_to_zarr] 2162688 rows in 232.85s; chunk in 6.99s (9374 rows/s); 2\u0000:224158555\n",
      "[vcf_to_zarr] 2228224 rows in 238.60s; chunk in 6.93s (9456 rows/s); 1\u0000:269995618\n",
      "[vcf_to_zarr] 2228224 rows in 238.65s; chunk in 6.94s (9448 rows/s); 3\u0000:239614735\n",
      "[vcf_to_zarr] 2228224 rows in 239.94s; chunk in 7.09s (9242 rows/s); 2\u0000:231791460\n",
      "[vcf_to_zarr] 2293760 rows in 245.65s; chunk in 7.05s (9296 rows/s); 1\u0000:279081213\n",
      "[vcf_to_zarr] 2293760 rows in 245.75s; chunk in 7.10s (9233 rows/s); 3\u0000:244900797\n",
      "[vcf_to_zarr] 2293760 rows in 247.10s; chunk in 7.16s (9154 rows/s); 2\u0000:240258036\n",
      "[vcf_to_zarr] 2359296 rows in 252.54s; chunk in 6.80s (9641 rows/s); 3\u0000:250453944\n",
      "[vcf_to_zarr] 2359296 rows in 252.60s; chunk in 6.95s (9430 rows/s); 1\u0000:287679569\n",
      "[vcf_to_zarr] 2359296 rows in 254.02s; chunk in 6.92s (9469 rows/s); 2\u0000:246376356\n",
      "[vcf_to_zarr] 2424832 rows in 259.62s; chunk in 7.08s (9260 rows/s); 3\u0000:256323977\n",
      "[vcf_to_zarr] 2424832 rows in 259.77s; chunk in 7.16s (9149 rows/s); 1\u0000:298683138\n",
      "[vcf_to_zarr] 2424832 rows in 261.01s; chunk in 6.99s (9375 rows/s); 2\u0000:252047149\n",
      "[vcf_to_zarr] 2490368 rows in 266.60s; chunk in 6.98s (9386 rows/s); 3\u0000:262248051\n",
      "[vcf_to_zarr] 2490368 rows in 266.68s; chunk in 6.92s (9470 rows/s); 1\u0000:309513600\n",
      "[vcf_to_zarr] 2490368 rows in 267.89s; chunk in 6.88s (9526 rows/s); 2\u0000:257268308\n",
      "[vcf_to_zarr] 2506329 rows in 268.88s; chunk in 2.19s (7284 rows/s)\n",
      "[vcf_to_zarr] all done (9309 rows/s)\n",
      "[vcf_to_zarr] 2555904 rows in 273.47s; chunk in 6.87s (9534 rows/s); 3\u0000:267987891\n",
      "[vcf_to_zarr] 2555904 rows in 274.95s; chunk in 7.06s (9279 rows/s); 2\u0000:262444437\n",
      "[vcf_to_zarr] 2621440 rows in 280.43s; chunk in 6.96s (9422 rows/s); 3\u0000:274093685\n",
      "[vcf_to_zarr] 2621440 rows in 281.75s; chunk in 6.80s (9634 rows/s); 2\u0000:267958745\n",
      "[vcf_to_zarr] 2686976 rows in 287.42s; chunk in 6.99s (9376 rows/s); 3\u0000:281542920\n",
      "[vcf_to_zarr] 2686976 rows in 288.67s; chunk in 6.92s (9468 rows/s); 2\u0000:273322722\n",
      "[vcf_to_zarr] 2752512 rows in 294.44s; chunk in 7.02s (9339 rows/s); 3\u0000:288173147\n",
      "[vcf_to_zarr] 2752512 rows in 295.56s; chunk in 6.89s (9513 rows/s); 2\u0000:278996565\n",
      "[vcf_to_zarr] 2818048 rows in 301.38s; chunk in 6.94s (9442 rows/s); 3\u0000:295556324\n",
      "[vcf_to_zarr] 2818048 rows in 302.49s; chunk in 6.93s (9462 rows/s); 2\u0000:285852563\n",
      "[vcf_to_zarr] 2883584 rows in 308.55s; chunk in 7.17s (9137 rows/s); 3\u0000:302543593\n",
      "[vcf_to_zarr] 2883584 rows in 309.27s; chunk in 6.78s (9660 rows/s); 2\u0000:292102063\n",
      "[vcf_to_zarr] 2949120 rows in 315.56s; chunk in 7.01s (9345 rows/s); 3\u0000:308345795\n",
      "[vcf_to_zarr] 2949120 rows in 316.16s; chunk in 6.89s (9515 rows/s); 2\u0000:298950936\n",
      "[vcf_to_zarr] 3014656 rows in 322.62s; chunk in 7.06s (9286 rows/s); 3\u0000:317236681\n",
      "[vcf_to_zarr] 3014656 rows in 323.17s; chunk in 7.01s (9347 rows/s); 2\u0000:306070457\n",
      "[vcf_to_zarr] 3080192 rows in 329.55s; chunk in 6.93s (9451 rows/s); 3\u0000:325613058\n",
      "[vcf_to_zarr] 3080192 rows in 330.06s; chunk in 6.89s (9509 rows/s); 2\u0000:314310841\n",
      "[vcf_to_zarr] 3145728 rows in 336.39s; chunk in 6.83s (9592 rows/s); 3\u0000:331466029\n",
      "[vcf_to_zarr] 3145728 rows in 337.02s; chunk in 6.95s (9425 rows/s); 2\u0000:319456929\n",
      "[vcf_to_zarr] 3211264 rows in 343.36s; chunk in 6.97s (9400 rows/s); 3\u0000:337369653\n",
      "[vcf_to_zarr] 3211264 rows in 344.20s; chunk in 7.18s (9122 rows/s); 2\u0000:325516557\n",
      "[vcf_to_zarr] 3276800 rows in 350.24s; chunk in 6.88s (9523 rows/s); 3\u0000:344207982\n",
      "[vcf_to_zarr] 3276800 rows in 350.98s; chunk in 6.78s (9670 rows/s); 2\u0000:332068641\n",
      "[vcf_to_zarr] 3342336 rows in 357.20s; chunk in 6.96s (9411 rows/s); 3\u0000:349397691\n",
      "[vcf_to_zarr] 3342336 rows in 357.94s; chunk in 6.97s (9406 rows/s); 2\u0000:339759327\n",
      "[vcf_to_zarr] 3407872 rows in 364.87s; chunk in 7.67s (8545 rows/s); 3\u0000:354587471\n",
      "[vcf_to_zarr] 3407872 rows in 364.89s; chunk in 6.95s (9430 rows/s); 2\u0000:345353913\n",
      "[vcf_to_zarr] 3473408 rows in 371.79s; chunk in 6.90s (9503 rows/s); 2\u0000:351249899\n",
      "[vcf_to_zarr] 3473408 rows in 372.04s; chunk in 7.16s (9147 rows/s); 3\u0000:361035872\n",
      "[vcf_to_zarr] 3538944 rows in 378.88s; chunk in 7.09s (9243 rows/s); 2\u0000:357425623\n",
      "[vcf_to_zarr] 3538944 rows in 379.19s; chunk in 7.16s (9154 rows/s); 3\u0000:367338013\n",
      "[vcf_to_zarr] 3604480 rows in 386.39s; chunk in 7.20s (9106 rows/s); 3\u0000:376017235\n",
      "[vcf_to_zarr] 3604480 rows in 386.46s; chunk in 7.58s (8647 rows/s); 2\u0000:363293992\n",
      "[vcf_to_zarr] 3670016 rows in 393.65s; chunk in 7.26s (9027 rows/s); 3\u0000:383582433\n",
      "[vcf_to_zarr] 3670016 rows in 393.76s; chunk in 7.30s (8976 rows/s); 2\u0000:368601098\n",
      "[vcf_to_zarr] 3735552 rows in 400.76s; chunk in 7.11s (9223 rows/s); 3\u0000:389980492\n",
      "[vcf_to_zarr] 3735552 rows in 400.85s; chunk in 7.10s (9236 rows/s); 2\u0000:373958950\n",
      "[vcf_to_zarr] 3801088 rows in 407.70s; chunk in 6.84s (9579 rows/s); 2\u0000:378114315\n",
      "[vcf_to_zarr] 3801088 rows in 407.79s; chunk in 7.04s (9311 rows/s); 3\u0000:396007545\n",
      "[vcf_to_zarr] 3866624 rows in 414.68s; chunk in 6.98s (9383 rows/s); 2\u0000:382502585\n",
      "[vcf_to_zarr] 3866624 rows in 414.92s; chunk in 7.13s (9190 rows/s); 3\u0000:402642021\n",
      "[vcf_to_zarr] 3917564 rows in 420.51s; chunk in 5.59s (9118 rows/s)\n",
      "[vcf_to_zarr] all done (9306 rows/s)\n",
      "[vcf_to_zarr] 3932160 rows in 421.64s; chunk in 6.96s (9420 rows/s); 2\u0000:387731531\n",
      "[vcf_to_zarr] 3997696 rows in 428.56s; chunk in 6.93s (9463 rows/s); 2\u0000:393138940\n",
      "[vcf_to_zarr] 4063232 rows in 435.66s; chunk in 7.10s (9230 rows/s); 2\u0000:399075175\n",
      "[vcf_to_zarr] 4128768 rows in 442.73s; chunk in 7.07s (9275 rows/s); 2\u0000:404192936\n",
      "[vcf_to_zarr] 4194304 rows in 449.49s; chunk in 6.76s (9689 rows/s); 2\u0000:408892099\n",
      "[vcf_to_zarr] 4259840 rows in 456.29s; chunk in 6.80s (9640 rows/s); 2\u0000:415273364\n",
      "[vcf_to_zarr] 4325376 rows in 463.18s; chunk in 6.90s (9504 rows/s); 2\u0000:421319684\n",
      "[vcf_to_zarr] 4390912 rows in 470.33s; chunk in 7.14s (9173 rows/s); 2\u0000:427957529\n",
      "[vcf_to_zarr] 4456448 rows in 477.58s; chunk in 7.25s (9034 rows/s); 2\u0000:435612610\n",
      "[vcf_to_zarr] 4521984 rows in 484.84s; chunk in 7.25s (9035 rows/s); 2\u0000:442910435\n",
      "[vcf_to_zarr] 4555987 rows in 488.79s; chunk in 3.96s (8596 rows/s)\n",
      "[vcf_to_zarr] all done (9313 rows/s)\n"
     ]
    }
   ],
   "source": [
    "# Create zarr archive with a group for each chrom\n",
    "num_procs = multiprocessing.cpu_count()-1\n",
    "\n",
    "transformers = None\n",
    "if 'ANN' in FIELDS:\n",
    "    transformers=allel.ANNTransformer()\n",
    "\n",
    "def vcf_to_zarr_func(ch):\n",
    "    allel.vcf_to_zarr(INFN, OUTFN,\n",
    "                      region=ch,\n",
    "                      group=ch,\n",
    "                      log=sys.stderr,\n",
    "                      fields=FIELDS,\n",
    "                      exclude_fields=EXCLUDE_FIELDS,\n",
    "                      tabix=TABIX_EXEC,\n",
    "                      transformers=transformers)\n",
    "    \n",
    "with multiprocessing.Pool(num_procs) as pool:\n",
    "    pool.map(vcf_to_zarr_func, chroms, chunksize=1)"
   ]
  },
  {
   "cell_type": "code",
   "execution_count": 15,
   "metadata": {},
   "outputs": [],
   "source": [
    "callset = zarr.open_group(OUTFN, mode='r')"
   ]
  },
  {
   "cell_type": "code",
   "execution_count": 16,
   "metadata": {},
   "outputs": [
    {
     "name": "stdout",
     "output_type": "stream",
     "text": [
      "CPU times: user 3.04 ms, sys: 0 ns, total: 3.04 ms\n",
      "Wall time: 2.93 ms\n"
     ]
    },
    {
     "data": {
      "application/vnd.jupyter.widget-view+json": {
       "model_id": "3f2d015559b441d9abda69a30b5a064b",
       "version_major": 2,
       "version_minor": 0
      },
      "text/plain": [
       "Tree(nodes=(Node(disabled=True, name='2', nodes=(Node(disabled=True, name='calldata', nodes=(Node(disabled=Tru…"
      ]
     },
     "metadata": {},
     "output_type": "display_data"
    }
   ],
   "source": [
    "%%time\n",
    "callset['2'].tree()"
   ]
  },
  {
   "cell_type": "code",
   "execution_count": 17,
   "metadata": {},
   "outputs": [
    {
     "data": {
      "text/plain": [
       "['AC',\n",
       " 'AF',\n",
       " 'ALT',\n",
       " 'AN',\n",
       " 'CHROM',\n",
       " 'DP',\n",
       " 'POS',\n",
       " 'QUAL',\n",
       " 'REF',\n",
       " 'TYPE',\n",
       " 'numalt']"
      ]
     },
     "execution_count": 17,
     "metadata": {},
     "output_type": "execute_result"
    }
   ],
   "source": [
    "t = callset\n",
    "list(callset['2/variants'].keys())"
   ]
  },
  {
   "cell_type": "code",
   "execution_count": 18,
   "metadata": {},
   "outputs": [
    {
     "data": {
      "text/plain": [
       "<zarr.hierarchy.Group '/' read-only>"
      ]
     },
     "execution_count": 18,
     "metadata": {},
     "output_type": "execute_result"
    }
   ],
   "source": [
    "callset"
   ]
  },
  {
   "cell_type": "code",
   "execution_count": null,
   "metadata": {},
   "outputs": [],
   "source": []
  }
 ],
 "metadata": {
  "kernelspec": {
   "display_name": "Python 3",
   "language": "python",
   "name": "python3"
  },
  "language_info": {
   "codemirror_mode": {
    "name": "ipython",
    "version": 3
   },
   "file_extension": ".py",
   "mimetype": "text/x-python",
   "name": "python",
   "nbconvert_exporter": "python",
   "pygments_lexer": "ipython3",
   "version": "3.7.8"
  }
 },
 "nbformat": 4,
 "nbformat_minor": 4
}
